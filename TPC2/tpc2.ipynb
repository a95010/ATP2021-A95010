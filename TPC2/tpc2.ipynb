{
 "cells": [
  {
   "cell_type": "code",
   "execution_count": null,
   "id": "1b36dfbb-44db-4184-a542-8937b6558742",
   "metadata": {},
   "outputs": [
    {
     "name": "stdout",
     "output_type": "stream",
     "text": [
      "Bem-vindo ao jogo! :)\n",
      "Pense num número de 0 a 100.\n",
      "O computador vai tentar adivinha-lo no minimo de tentativas possiveis.\n",
      "O número é:  50\n",
      "Tentativa número:  1\n"
     ]
    }
   ],
   "source": [
    "inicio = \"\"\"Bem-vindo ao jogo! :)\n",
    "Pense num número de 0 a 100.\n",
    "O computador vai tentar adivinha-lo no minimo de tentativas possiveis.\"\"\"\n",
    "print(inicio)\n",
    "\n",
    "    \n",
    "def jogo():\n",
    "    tentativa = 0 \n",
    "    encontrado = False\n",
    "    palpite = 50\n",
    "    while not encontrado:\n",
    "        print(\"O número é: \", palpite)\n",
    "        tentativa = tentativa + 1\n",
    "        print(\"Tentativa número: \", tentativa)\n",
    "        resposta = input(\"O número em que pensou é maior, menor ou igual? \")\n",
    "        if (resposta == \"maior\"):\n",
    "            if (palpite)%2==0:\n",
    "                a=int(palpite/2)\n",
    "            else:\n",
    "                a=int(0.5 + palpite/2)\n",
    "            palpite = palpite + a\n",
    "        elif (resposta == \"menor\"):\n",
    "            if (palpite)%2==0:\n",
    "                a=int(palpite)/2\n",
    "            else:\n",
    "                a=int(0.5+ palpite/2)\n",
    "            palpite = palpite - a\n",
    "        elif (resposta == \"igual\"):\n",
    "            encontrado = True\n",
    "            print(\"Tentativa número: \", tentativa)\n",
    "            print(\"\"\"Fim do jogo!\n",
    "            O seu número é:\"\"\", palpite)\n",
    "print(jogo())"
   ]
  },
  {
   "cell_type": "code",
   "execution_count": null,
   "id": "34792ef3-0d1e-46c3-afb8-f9a2aabaa2b0",
   "metadata": {},
   "outputs": [],
   "source": []
  }
 ],
 "metadata": {
  "kernelspec": {
   "display_name": "Python 3",
   "language": "python",
   "name": "python3"
  },
  "language_info": {
   "codemirror_mode": {
    "name": "ipython",
    "version": 3
   },
   "file_extension": ".py",
   "mimetype": "text/x-python",
   "name": "python",
   "nbconvert_exporter": "python",
   "pygments_lexer": "ipython3",
   "version": "3.8.8"
  }
 },
 "nbformat": 4,
 "nbformat_minor": 5
}

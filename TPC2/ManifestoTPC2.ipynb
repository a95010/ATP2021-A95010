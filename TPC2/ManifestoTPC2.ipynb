{
 "cells": [
  {
   "cell_type": "markdown",
   "id": "b9a6a1f3-825c-475a-a355-171b850689e0",
   "metadata": {},
   "source": [
    "## Manisfesto TPC2\n",
    "\n",
    "**Identificador:** TPC2\n",
    "\n",
    "**Título:** Jogo Adivinha o número\n",
    "\n",
    "**Data de início:** 2021-10-18  **Data do fim:** 2021-10-20\n",
    "\n",
    "**Supervisor:** José Carlos Leite Ramalho,  https://www.di.uminho.pt/~jcr/ \n",
    "\n",
    "**Autor:** Mariana Santos Andrade, A95010\n"
   ]
  },
  {
   "cell_type": "markdown",
   "id": "f41d0c25-1a5f-408a-95f3-dc234de2185f",
   "metadata": {},
   "source": [
    "#### Resumo"
   ]
  },
  {
   "cell_type": "markdown",
   "id": "5e0370b3-237b-4c9c-b9c7-44bd13810ee8",
   "metadata": {},
   "source": [
    "O jogo apresentado tem como objetivo adivinhar um número pensado pelo jogador entre 0 e 100 no menor numero de tentativas possiveis, através do processo de pesquisa binária.\n",
    "\n",
    "Primeiramente, são apresentandas as regras do jogo e os comandos a serem utilizados.\n",
    "\n",
    "De seguida através de um ciclo while o jogo irá decorrer até o jogador dizer que o palpite do computador é igual ao número pensando.\n",
    "\n",
    "Entre o ciclo while temos a estrutura if/else para controlar os palpites dados pelo computador através da resposta do computador à pergunta \"maior, menor ou igual?\".\n",
    "\n",
    "No fim aparece a resposta certa juntamente com o número de tentativas que o computador levou até acertar."
   ]
  },
  {
   "cell_type": "code",
   "execution_count": null,
   "id": "dd79105c-7c2d-4038-af2a-e845ae277b63",
   "metadata": {},
   "outputs": [],
   "source": []
  }
 ],
 "metadata": {
  "kernelspec": {
   "display_name": "Python 3",
   "language": "python",
   "name": "python3"
  },
  "language_info": {
   "codemirror_mode": {
    "name": "ipython",
    "version": 3
   },
   "file_extension": ".py",
   "mimetype": "text/x-python",
   "name": "python",
   "nbconvert_exporter": "python",
   "pygments_lexer": "ipython3",
   "version": "3.8.8"
  }
 },
 "nbformat": 4,
 "nbformat_minor": 5
}

{
 "cells": [
  {
   "cell_type": "markdown",
   "id": "07c9d846-86be-4f2c-86b5-3162779368a7",
   "metadata": {},
   "source": [
    "### Manisfesto TPC3\n",
    "**Identificador:** TPC3\n",
    "\n",
    "**Título:** Função bubble sort e menu\n",
    "\n",
    "**Data de início:** 2021-10-25 **Data do fim:** 2021-10-26\n",
    "\n",
    "**Supervisor:** José Carlos Leite Ramalho, https://www.di.uminho.pt/~jcr/\n",
    "\n",
    "**Autor:** Mariana Santos Andrade, A95010"
   ]
  },
  {
   "cell_type": "markdown",
   "id": "ff3781f0-b11c-4b2b-9406-48a8d24d539a",
   "metadata": {},
   "source": [
    "#### Resumo"
   ]
  },
  {
   "cell_type": "markdown",
   "id": "ea3bf2d2-f118-40aa-bafb-c594c0643782",
   "metadata": {},
   "source": [
    "O código apresentado cria um menu que nos permite realizar várias operações com listas, para além daquelas apresentadas na aula temos também a função BubbleSort.\n",
    "\n",
    "Esta função tem como objetivo ordenar os elementos da lista através da troca direta comparando um número e o seu seguinte. Através de um ciclo **while** o código só para quando a lista está toda está organizada de forma crescente e posteriormente é apresentada ao utilizador.\n",
    "\n",
    "Para que o programa não faça trocas infinitamente, o ciclo recebe uma variável chamada *ordem* que tem valor atribuido **False** e ainda no ciclo passa a **True** quando não há necessidade de fazer trocas e volta a ser **False** quando passa para a comparação seguinte e ocorre uma troca. Deste modo, quando a lista fica organizada a variável fica sempre **True** terminando o ciclo."
   ]
  },
  {
   "cell_type": "code",
   "execution_count": null,
   "id": "67b6ba4f-1bc5-428d-ae7e-7e1fa8c6043b",
   "metadata": {},
   "outputs": [],
   "source": []
  }
 ],
 "metadata": {
  "kernelspec": {
   "display_name": "Python 3",
   "language": "python",
   "name": "python3"
  },
  "language_info": {
   "codemirror_mode": {
    "name": "ipython",
    "version": 3
   },
   "file_extension": ".py",
   "mimetype": "text/x-python",
   "name": "python",
   "nbconvert_exporter": "python",
   "pygments_lexer": "ipython3",
   "version": "3.8.8"
  }
 },
 "nbformat": 4,
 "nbformat_minor": 5
}

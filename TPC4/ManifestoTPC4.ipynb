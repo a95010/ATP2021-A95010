{
 "cells": [
  {
   "cell_type": "markdown",
   "id": "91d768f2-2ce0-48af-9117-4a204d3f7c73",
   "metadata": {},
   "source": [
    "### Manisfesto TPC4\n",
    "**Identificador:** TPC4\n",
    "\n",
    "**Título:** Manipulaçã\n",
    "\n",
    "**Data de início:** 2021-11-8 **Data do fim:** 2021-11-9\n",
    "\n",
    "**Supervisor:** José Carlos Leite Ramalho, https://www.di.uminho.pt/~jcr/\n",
    "\n",
    "**Autor:** Mariana Santos Andrade, A95010"
   ]
  },
  {
   "cell_type": "markdown",
   "id": "98cd0a01-fc50-4ee8-9363-d8486a9ca3a1",
   "metadata": {},
   "source": [
    "#### Resumo\n",
    "Este programa é o desenvolvimento de uma aplicação que nos permite efetuar operações básicas com funções e listas de funções. \n",
    "\n",
    "É nos apresentado um menu com várias opções, cada uma delas destinada a um efeito especifico, alguns exemplos dessas funções são a soma, a divisão, multiplicação, etc... "
   ]
  },
  {
   "cell_type": "code",
   "execution_count": null,
   "id": "ebf4132c-765b-49b7-bcc9-b65223a6ae35",
   "metadata": {},
   "outputs": [],
   "source": []
  }
 ],
 "metadata": {
  "kernelspec": {
   "display_name": "Python 3",
   "language": "python",
   "name": "python3"
  },
  "language_info": {
   "codemirror_mode": {
    "name": "ipython",
    "version": 3
   },
   "file_extension": ".py",
   "mimetype": "text/x-python",
   "name": "python",
   "nbconvert_exporter": "python",
   "pygments_lexer": "ipython3",
   "version": "3.8.8"
  }
 },
 "nbformat": 4,
 "nbformat_minor": 5
}
